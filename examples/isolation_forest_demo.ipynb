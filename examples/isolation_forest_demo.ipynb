{
 "cells": [
  {
   "cell_type": "code",
   "execution_count": null,
   "id": "1ebac4a3",
   "metadata": {
    "vscode": {
     "languageId": "plaintext"
    }
   },
   "outputs": [],
   "source": [
    "# ✅ 📦 Import setup to make models/ folder accessible\n",
    "import sys\n",
    "import os\n",
    "\n",
    "# Adds the parent directory (etsi-watchdog root) to Python path\n",
    "sys.path.insert(0, os.path.abspath(os.path.join(os.getcwd(), \"..\")))\n",
    "\n",
    "# 🧠 Required imports\n",
    "from models.isolation_forest import IsolationForestModel\n",
    "import pandas as pd\n",
    "import matplotlib.pyplot as plt\n",
    "import numpy as np\n",
    "from sklearn.datasets import make_blobs\n",
    "\n",
    "# 📊 Sample dataset (300 normal points)\n",
    "X, _ = make_blobs(n_samples=300, centers=1, cluster_std=0.60, random_state=0)\n",
    "data = pd.DataFrame(X, columns=[\"x\", \"y\"])\n",
    "\n",
    "# 😈 Inject 10 anomalies\n",
    "anomalies = np.random.uniform(low=-6, high=6, size=(10, 2))\n",
    "data_with_anomalies = pd.concat([data, pd.DataFrame(anomalies, columns=[\"x\", \"y\"])])\n",
    "\n",
    "# 🤖 Fit model and predict\n",
    "model = IsolationForestModel()\n",
    "model.fit(data_with_anomalies)\n",
    "predictions = model.predict(data_with_anomalies)\n",
    "\n",
    "# 🎨 Visualize\n",
    "plt.figure(figsize=(8, 6))\n",
    "plt.scatter(data_with_anomalies[\"x\"], data_with_anomalies[\"y\"], c=predictions, cmap=\"coolwarm\", edgecolors='k')\n",
    "plt.title(\"Isolation Forest Anomaly Detection\")\n",
    "plt.xlabel(\"x\")\n",
    "plt.ylabel(\"y\")\n",
    "plt.grid(True)\n",
    "plt.show()"
   ]
  }
 ],
 "metadata": {
  "language_info": {
   "name": "python"
  }
 },
 "nbformat": 4,
 "nbformat_minor": 5
}
